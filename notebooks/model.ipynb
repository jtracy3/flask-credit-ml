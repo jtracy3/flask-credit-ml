{
 "cells": [
  {
   "cell_type": "code",
   "execution_count": 63,
   "metadata": {},
   "outputs": [
    {
     "data": {
      "text/plain": [
       "(480, 20)"
      ]
     },
     "execution_count": 63,
     "metadata": {},
     "output_type": "execute_result"
    }
   ],
   "source": [
    "import pandas as pd\n",
    "import numpy as np\n",
    "import matplotlib.pyplot as plt \n",
    "import seaborn as sns\n",
    "\n",
    "from sklearn.model_selection import train_test_split\n",
    "from sklearn.pipeline import Pipeline\n",
    "from sklearn.compose import ColumnTransformer\n",
    "from sklearn.preprocessing import OrdinalEncoder, OneHotEncoder, FunctionTransformer\n",
    "\n",
    "pd.options.display.max_columns = 500\n",
    "\n",
    "df = pd.read_csv(\"../data/credit.csv\")\n",
    "df_val = pd.read_csv(\"../data/credit2.csv\")\n",
    "\n",
    "X, y = df.loc[:, ~df.columns.isin(['bad_loan'])], df['bad_loan']\n",
    "X_train, X_test, y_train, y_test = train_test_split(\n",
    "    X, y, test_size=0.2, random_state=2345, stratify=y\n",
    ")\n",
    "\n",
    "# save model training / test\n",
    "pd.concat([X_train, y_train]).to_csv(\"../models/artifacts/training_data.csv\", index=False)\n",
    "pd.concat([X_test, y_test]).to_csv(\"../models/artifacts/test_data.csv\", index=False)\n",
    "\n",
    "# clean up categorical fields\n",
    "ordinal_features = [\"account_status\", \"savings\", \"employment\"]\n",
    "oh_features = [\"credit_history\",\"purpose\", \"personal_status_and_sex\", \"other_debtors\", \"property\", \"other_installments\", \"housing\", \"job\", \"telephone\", \"foreign_worker\"]\n",
    "\n",
    "# Pipeline\n",
    "# processor = ColumnTransformer([\n",
    "    # (\"ordinal_transform\", OrdinalEncoder(), ordinal_features),\n",
    "    # (\"oh_transformer\", OneHotEncoder(), oh_features),\n",
    "    # (\"credit_amount_transform\", FunctionTransformer(lambda x: np.log1p(x)), [\"credit_amount\"])],\n",
    "    # remainder=\"passthrough\"\n",
    "# )\n",
    "\n",
    "# pipeline = Pipeline([\n",
    "    # (\"process\", processor),\n",
    "# ])\n",
    "\n",
    "# pipeline.fit_transform(X_train)\n",
    "\n",
    "X_train.shape"
   ]
  },
  {
   "cell_type": "code",
   "execution_count": 64,
   "metadata": {},
   "outputs": [],
   "source": [
    "# Training set up --------------------------------------------------------------\n",
    "ord_enc = OrdinalEncoder()\n",
    "oh_enc = OneHotEncoder(drop=\"first\")\n",
    "log_trans = FunctionTransformer(np.log1p)\n",
    "\n",
    "# Transformer ordinal features\n",
    "X_train[ordinal_features] = ord_enc.fit_transform(X_train[ordinal_features])\n",
    "# Log transform credit amount\n",
    "X_train[\"credit_amount\"] = log_trans.fit_transform(X_train[\"credit_amount\"])\n",
    "\n",
    "# fit one hot encoded features\n",
    "oh_enc.fit(X_train[oh_features])\n",
    "oh_enc_features = pd.DataFrame(oh_enc.transform(X_train[oh_features]).toarray(), columns=oh_enc.get_feature_names_out(), index=X_train.index)\n",
    "X_train = pd.concat([X_train, oh_enc_features], axis=1)\n",
    "X_train.drop(columns=oh_features, inplace=True)\n",
    "\n",
    "\n",
    "# Test set up ------------------------------------------------------\n",
    "# Transformer ordinal features\n",
    "X_test[ordinal_features] = ord_enc.transform(X_test[ordinal_features])\n",
    "# Log transform credit amount\n",
    "X_test[\"credit_amount\"] = log_trans.transform(X_test[\"credit_amount\"])\n",
    "\n",
    "# fit one hot encoded features\n",
    "oh_enc_features = pd.DataFrame(oh_enc.transform(X_test[oh_features]).toarray(), columns=oh_enc.get_feature_names_out(), index=X_test.index)\n",
    "X_test = pd.concat([X_test, oh_enc_features], axis=1)\n",
    "X_test.drop(columns=oh_features, inplace=True)"
   ]
  },
  {
   "cell_type": "code",
   "execution_count": 53,
   "metadata": {},
   "outputs": [
    {
     "data": {
      "text/plain": [
       "(480, 40)"
      ]
     },
     "execution_count": 53,
     "metadata": {},
     "output_type": "execute_result"
    }
   ],
   "source": [
    "X_train.shape"
   ]
  },
  {
   "cell_type": "code",
   "execution_count": 54,
   "metadata": {},
   "outputs": [
    {
     "data": {
      "text/plain": [
       "(120, 40)"
      ]
     },
     "execution_count": 54,
     "metadata": {},
     "output_type": "execute_result"
    }
   ],
   "source": [
    "X_test.shape"
   ]
  },
  {
   "cell_type": "code",
   "execution_count": 70,
   "metadata": {},
   "outputs": [
    {
     "data": {
      "text/plain": [
       "0    336\n",
       "1    144\n",
       "Name: bad_loan, dtype: int64"
      ]
     },
     "execution_count": 70,
     "metadata": {},
     "output_type": "execute_result"
    }
   ],
   "source": [
    "this"
   ]
  },
  {
   "cell_type": "code",
   "execution_count": 62,
   "metadata": {},
   "outputs": [
    {
     "name": "stderr",
     "output_type": "stream",
     "text": [
      "/home/jtracy/.local/share/virtualenvs/credit-ml-k8O1SJK3/lib/python3.7/site-packages/sklearn/linear_model/_logistic.py:818: ConvergenceWarning: lbfgs failed to converge (status=1):\n",
      "STOP: TOTAL NO. of ITERATIONS REACHED LIMIT.\n",
      "\n",
      "Increase the number of iterations (max_iter) or scale the data as shown in:\n",
      "    https://scikit-learn.org/stable/modules/preprocessing.html\n",
      "Please also refer to the documentation for alternative solver options:\n",
      "    https://scikit-learn.org/stable/modules/linear_model.html#logistic-regression\n",
      "  extra_warning_msg=_LOGISTIC_SOLVER_CONVERGENCE_MSG,\n",
      "/home/jtracy/.local/share/virtualenvs/credit-ml-k8O1SJK3/lib/python3.7/site-packages/sklearn/metrics/_classification.py:1318: UndefinedMetricWarning: Precision is ill-defined and being set to 0.0 due to no predicted samples. Use `zero_division` parameter to control this behavior.\n",
      "  _warn_prf(average, modifier, msg_start, len(result))\n"
     ]
    }
   ],
   "source": [
    "from xgboost import XGBClassifier\n",
    "from sklearn.linear_model import LogisticRegression\n",
    "from sklearn.ensemble import RandomForestClassifier\n",
    "from sklearn.svm import SVC\n",
    "from sklearn.neighbors import KNeighborsClassifier\n",
    "from sklearn import metrics\n",
    "\n",
    "\n",
    "# check models\n",
    "models = {\n",
    "    \"xgb\": XGBClassifier(),\n",
    "    \"logisitc\": LogisticRegression(max_iter=10_000),\n",
    "    \"rf\": RandomForestClassifier(),\n",
    "    \"svm\": SVC(),\n",
    "    \"knn\": KNeighborsClassifier(n_neighbors=9)\n",
    "}\n",
    "\n",
    "results = {}\n",
    "\n",
    "for name, model in models.items():\n",
    "    results[name] = {}\n",
    "    try:\n",
    "        model.fit(X_train, y_train)\n",
    "        results[name][\"model\"] = model\n",
    "        # get predictions\n",
    "        y_pred = model.predict(X_test)\n",
    "        results[name][\"accuracy\"] = metrics.accuracy_score(y_test, y_pred)\n",
    "        results[name][\"recall\"] = metrics.recall_score(y_test, y_pred)\n",
    "        results[name][\"precision\"] = metrics.precision_score(y_test, y_pred)\n",
    "        results[name][\"auc\"] = metrics.roc_auc_score(y_test, y_pred)\n",
    "    except:\n",
    "        print(name)\n",
    "        raise"
   ]
  },
  {
   "cell_type": "code",
   "execution_count": 61,
   "metadata": {},
   "outputs": [
    {
     "data": {
      "text/plain": [
       "{'xgb': {'accuracy': 0.725,\n",
       "  'recall': 0.4444444444444444,\n",
       "  'precision': 0.5517241379310345,\n",
       "  'auc': 0.6448412698412699},\n",
       " 'logisitc': {'accuracy': 0.725,\n",
       "  'recall': 0.3888888888888889,\n",
       "  'precision': 0.56,\n",
       "  'auc': 0.628968253968254},\n",
       " 'rf': {'accuracy': 0.7083333333333334,\n",
       "  'recall': 0.2777777777777778,\n",
       "  'precision': 0.5263157894736842,\n",
       "  'auc': 0.5853174603174602},\n",
       " 'svm': {'accuracy': 0.7, 'recall': 0.0, 'precision': 0.0, 'auc': 0.5},\n",
       " 'knn': {'accuracy': 0.7083333333333334,\n",
       "  'recall': 0.25,\n",
       "  'precision': 0.5294117647058824,\n",
       "  'auc': 0.5773809523809523}}"
      ]
     },
     "execution_count": 61,
     "metadata": {},
     "output_type": "execute_result"
    }
   ],
   "source": [
    "results"
   ]
  },
  {
   "cell_type": "code",
   "execution_count": null,
   "metadata": {},
   "outputs": [],
   "source": []
  }
 ],
 "metadata": {
  "kernelspec": {
   "display_name": "credit-ml-k8O1SJK3",
   "language": "python",
   "name": "python3"
  },
  "language_info": {
   "codemirror_mode": {
    "name": "ipython",
    "version": 3
   },
   "file_extension": ".py",
   "mimetype": "text/x-python",
   "name": "python",
   "nbconvert_exporter": "python",
   "pygments_lexer": "ipython3",
   "version": "3.7.5"
  },
  "orig_nbformat": 4
 },
 "nbformat": 4,
 "nbformat_minor": 2
}
